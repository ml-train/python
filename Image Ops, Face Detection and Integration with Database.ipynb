{
 "cells": [
  {
   "cell_type": "code",
   "execution_count": 1,
   "id": "f9160ec1",
   "metadata": {},
   "outputs": [],
   "source": [
    "import cv2"
   ]
  },
  {
   "cell_type": "code",
   "execution_count": 3,
   "id": "a6b470cc",
   "metadata": {},
   "outputs": [],
   "source": [
    "img = cv2.imread(\"images.jpg\")"
   ]
  },
  {
   "cell_type": "code",
   "execution_count": 4,
   "id": "d05ed892",
   "metadata": {},
   "outputs": [],
   "source": [
    "cv2.imshow(\"Show Image\",img)\n",
    "cv2.waitKey(0)\n",
    "cv2.destroyAllWindows()"
   ]
  },
  {
   "cell_type": "code",
   "execution_count": 6,
   "id": "52689f5e",
   "metadata": {},
   "outputs": [
    {
     "data": {
      "text/plain": [
       "(183, 276, 3)"
      ]
     },
     "execution_count": 6,
     "metadata": {},
     "output_type": "execute_result"
    }
   ],
   "source": [
    "img.shape"
   ]
  },
  {
   "cell_type": "code",
   "execution_count": 7,
   "id": "09bb1526",
   "metadata": {},
   "outputs": [],
   "source": [
    "img_1 = cv2.imread(\"images.jpg\",0)"
   ]
  },
  {
   "cell_type": "code",
   "execution_count": 8,
   "id": "6cc9c840",
   "metadata": {},
   "outputs": [],
   "source": [
    "cv2.imshow(\"Color\",img)\n",
    "cv2.imshow(\"Gray Scale\",img_1)\n",
    "cv2.waitKey(0)\n",
    "cv2.destroyAllWindows()"
   ]
  },
  {
   "cell_type": "code",
   "execution_count": 9,
   "id": "6022621a",
   "metadata": {},
   "outputs": [],
   "source": [
    "img_resized = cv2.resize(img,(100,150))"
   ]
  },
  {
   "cell_type": "code",
   "execution_count": 10,
   "id": "131f320c",
   "metadata": {},
   "outputs": [],
   "source": [
    "cv2.imshow(\"Color\",img)\n",
    "cv2.imshow(\"Resized\",img_resized)\n",
    "cv2.waitKey(0)\n",
    "cv2.destroyAllWindows()"
   ]
  },
  {
   "cell_type": "code",
   "execution_count": 11,
   "id": "04f75a88",
   "metadata": {},
   "outputs": [
    {
     "data": {
      "text/plain": [
       "True"
      ]
     },
     "execution_count": 11,
     "metadata": {},
     "output_type": "execute_result"
    }
   ],
   "source": [
    "cv2.imwrite(\"Image Gray Scaled.png\",img_1)"
   ]
  },
  {
   "cell_type": "code",
   "execution_count": null,
   "id": "3e349314",
   "metadata": {},
   "outputs": [],
   "source": [
    "# Face Detection"
   ]
  },
  {
   "cell_type": "code",
   "execution_count": 12,
   "id": "15b24c22",
   "metadata": {},
   "outputs": [],
   "source": [
    "face_cas = cv2.CascadeClassifier(\"haarcascade_frontalface_default.xml\")"
   ]
  },
  {
   "cell_type": "code",
   "execution_count": 26,
   "id": "43674efa",
   "metadata": {},
   "outputs": [],
   "source": [
    "pic = cv2.imread(\"20220801-article-banner-01-1.jpg\")"
   ]
  },
  {
   "cell_type": "code",
   "execution_count": 27,
   "id": "3a955e71",
   "metadata": {},
   "outputs": [],
   "source": [
    "pic_gray = cv2.cvtColor(pic,cv2.COLOR_BGR2GRAY)"
   ]
  },
  {
   "cell_type": "code",
   "execution_count": 28,
   "id": "1ccdf366",
   "metadata": {},
   "outputs": [],
   "source": [
    "faces = face_cas.detectMultiScale(pic_gray, scaleFactor=1.05,minNeighbors=5)"
   ]
  },
  {
   "cell_type": "code",
   "execution_count": 29,
   "id": "91c1fd64",
   "metadata": {},
   "outputs": [],
   "source": [
    "for x,y,w,h in faces:\n",
    "    res = cv2.rectangle(pic,(x,y),(x+w,y+h),(0,255,0),3)"
   ]
  },
  {
   "cell_type": "code",
   "execution_count": 30,
   "id": "587a7664",
   "metadata": {},
   "outputs": [],
   "source": [
    "cv2.imshow(\"Color\",pic)\n",
    "cv2.waitKey(0)\n",
    "cv2.destroyAllWindows()"
   ]
  },
  {
   "cell_type": "code",
   "execution_count": 34,
   "id": "64bd5616",
   "metadata": {},
   "outputs": [],
   "source": [
    "# videos\n",
    "cap=cv2.VideoCapture(0)\n",
    "while True:\n",
    "    _,img = cap.read()\n",
    "    img_gray = cv2.cvtColor(img,cv2.COLOR_BGR2GRAY)\n",
    "    faces = face_cas.detectMultiScale(img_gray, scaleFactor=1.05,minNeighbors=5)\n",
    "    for x,y,w,h in faces:\n",
    "        res = cv2.rectangle(img,(x,y),(x+w,y+h),(0,255,0),3)\n",
    "    \n",
    "    \n",
    "    cv2.imshow(\"Detection\",res)\n",
    "    \n",
    "    key = cv2.waitKey(1) #wait 1ms the loop will start again and we will process the next frame\n",
    "    \n",
    "    if key == 27: #esc key stops the process\n",
    "        break;\n",
    "    \n",
    "cap.release()    \n",
    "cv2.destroyAllWindows()"
   ]
  },
  {
   "cell_type": "code",
   "execution_count": null,
   "id": "bdb46142",
   "metadata": {},
   "outputs": [],
   "source": []
  }
 ],
 "metadata": {
  "kernelspec": {
   "display_name": "Python 3 (ipykernel)",
   "language": "python",
   "name": "python3"
  },
  "language_info": {
   "codemirror_mode": {
    "name": "ipython",
    "version": 3
   },
   "file_extension": ".py",
   "mimetype": "text/x-python",
   "name": "python",
   "nbconvert_exporter": "python",
   "pygments_lexer": "ipython3",
   "version": "3.9.7"
  }
 },
 "nbformat": 4,
 "nbformat_minor": 5
}
